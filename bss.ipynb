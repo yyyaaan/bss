{
 "cells": [
  {
   "cell_type": "markdown",
   "metadata": {},
   "source": [
    "$$\\begin{aligned} \n",
    "x= zA^T + \\mu\n",
    "\\\\ & z \\text{ is source signal, zero-mean}\n",
    "\\\\ & \\mu \\text{ is location param, }p \\text{-vector}\n",
    "\\\\ & A \\text{ is mixing matrix; } W:= A^{-1} \\text{ unmixing}\n",
    "\\\\\n",
    "\\\\ & W \\text{ is not unique up to signs and scales}\n",
    "\\\\ & W^*=CW,\\ C_{p\\times p} \\text{ has exactly one non-zero in each row and column}\n",
    "\\\\ & \\text{usually define }x_{st}= (x-\\mu)\\Sigma^{-1/2},\\ \\ \\Sigma= \\text{Cov}(x)=AA^T\n",
    "\\end{aligned}$$\n",
    "\n",
    "## Joint Diagonalization\n",
    "\n",
    "$S_1,\\ S_2$ are know symmetric matrices; $W_{p\\times p}$ nonsingular and $D_{p\\times p}$ diagonal.\n",
    "\n",
    "$$\\begin{aligned} \\text{Simultaneous Diag Problem }\n",
    "& \\begin{cases} WS_1 W^T &= I_p \\\\ W S_2 W^T & = D \\end{cases}\n",
    "\\\\\n",
    "\\\\ \\text{Simultaneous Diag Solution }\n",
    "& \\begin{cases} \n",
    "  \\text{1. Solve eigen } & S_1 V^T = V^T \\Lambda_1 \\\\ \n",
    "  \\text{2. Square root } & S_1^{-1/2} = V^T \\Lambda-1 ^{-1/2} V \\\\ \n",
    "  \\text{3. Solve eigen } & \\big( S_1^{-1/2}\\ S_2\\ S_1^{-1/2\\ T} \\big) U^T = U^T \\Lambda_2 \\\\\n",
    "  \\text{Solution: } & W=US_1^{-1/2},\\ D= \\Lambda_2\n",
    "  \\end{cases} \n",
    "\\end{aligned}$$\n",
    "\n",
    "For more matrices, try to make $WS_K W^T$ as diagonal as possible. $\\text{off}(M) = M - \\text{diag}(M)$.\n",
    "\n",
    "$$\\begin{aligned} \n",
    "\\text{To minimize diagonality } & \n",
    "\\begin{cases} \\sum\\limits_{k=1}^K M(WS_K W^T) \\\\  \\\\ M(V):= || \\text{off}(V)||^2 = \\sum\\limits_{i\\neq j}V_{ij}^2 \\text{ as a common choice} \\end{cases}\n",
    "\\\\\n",
    "\\\\ \\text{Approximation Solution }\n",
    "& \\begin{cases} \n",
    "  \\text{1. Whitening } & S_k^*= S_1^{-1/2}\\ S_k\\ S_1^{-1/2\\ T}\\\\\n",
    "  & S_1 \\text{ usually covariance matrix}\\\\\n",
    "  \\text{2. Find orthogonal }U & \\text{minimize }\\sum\\limits_{k=2}^K|| \\text{off}(US_k^* U^T)||^2  \\\\\n",
    "  \\ \\ \\ \\ \\ \\text{(or) }\\iff &\\text{maximize }\\sum\\limits_{k=2}^K|| \\text{diag}(US_k^* U^T)||^2 \\\\\n",
    "  \\text{use algorithms e.g.}& \\text{deflation-based }\\textbf{djd} \\text{; Given's rotation }\\textbf{rjd}\n",
    "\\end{cases} \n",
    "\\end{aligned}$$"
   ]
  },
  {
   "cell_type": "code",
   "execution_count": null,
   "metadata": {},
   "outputs": [],
   "source": []
  }
 ],
 "metadata": {
  "kernelspec": {
   "display_name": "R",
   "language": "R",
   "name": "ir"
  },
  "language_info": {
   "codemirror_mode": "r",
   "file_extension": ".r",
   "mimetype": "text/x-r-source",
   "name": "R",
   "pygments_lexer": "r",
   "version": "3.5.1"
  }
 },
 "nbformat": 4,
 "nbformat_minor": 2
}
